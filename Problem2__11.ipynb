{
  "nbformat": 4,
  "nbformat_minor": 0,
  "metadata": {
    "colab": {
      "provenance": []
    },
    "kernelspec": {
      "name": "python3",
      "display_name": "Python 3"
    },
    "language_info": {
      "name": "python"
    }
  },
  "cells": [
    {
      "cell_type": "code",
      "execution_count": null,
      "metadata": {
        "id": "ZVMdGeo8Y58d"
      },
      "outputs": [],
      "source": [
        "# https://pypi.python.org/pypi/cirq\n",
        "!apt-get -qq install -y graphviz && pip install cirq\n",
        "import cirq\n",
        "from cirq import X, H, Z, inverse, CX"
      ]
    },
    {
      "cell_type": "code",
      "source": [
        "def edge_check(a, b, c):\n",
        "    yield CX(qq[a], qq[c])\n",
        "    yield CX(qq[b], qq[c])\n",
        "\n",
        "def oracle1():\n",
        "    # check 0-2 edge and store at 4th qubit\n",
        "    yield edge_check(0, 1, 4)\n",
        "    # check 0-2 edge and store at 5th qubit\n",
        "    yield edge_check(0, 2, 5)\n",
        "    # check 0-3 edge and store at 6th qubit\n",
        "    yield edge_check(0, 3, 6)\n",
        "    # check 1-3 edge and store at 7th qubit\n",
        "    yield edge_check(1, 3, 7)\n",
        "\n",
        "    # check all edge qubits\n",
        "    yield X(qq[8]).controlled_by(*(qq[4:8]))\n",
        "\n",
        "def oracle_computation1():\n",
        "    yield oracle1()\n",
        "    yield Z(qq[8])\n",
        "       \n",
        "def oracle2():\n",
        "    # check 0-2 edge and store at 4th qubit\n",
        "    yield edge_check(0, 2, 4)\n",
        "    # check 0-3 edge and store at 5th qubit\n",
        "    yield edge_check(0, 3, 5)\n",
        "    # check 1-2 edge and store at 6th qubit\n",
        "    yield edge_check(1, 2, 6)\n",
        "    # check 1-3 edge and store at 7th qubit\n",
        "    yield edge_check(1, 3, 7)\n",
        "\n",
        "    # check all edge qubits\n",
        "    yield X(qq[8]).controlled_by(*(qq[4:8]))    \n",
        "    \n",
        "def oracle_computation2():\n",
        "    yield oracle2()\n",
        "    yield Z(qq[8])\n",
        " "
      ],
      "metadata": {
        "id": "AobCiiznZf00"
      },
      "execution_count": 23,
      "outputs": []
    },
    {
      "cell_type": "code",
      "source": [
        "circuit = cirq.Circuit()\n",
        "\n",
        "qq = cirq.LineQubit.range(9)\n",
        "circuit.append(X(qq[0]))\n",
        "circuit.append(X(qq[1]))\n",
        "circuit.append(oracle_computation1())\n",
        "\n",
        "circuit.append(cirq.measure((qq[-1]), key='result'))\n",
        "\n",
        "trials_number = 1000\n",
        "s = cirq.Simulator()\n",
        "samples = s.run(circuit, repetitions=trials_number)\n",
        "result = samples.measurements[\"result\"]\n",
        "\n",
        "def bitstring(bits):\n",
        "    return \"\".join(str(int(b)) for b in bits)\n",
        "\n",
        "counts = samples.histogram(key=\"result\",fold_func=bitstring)\n",
        "print(counts)"
      ],
      "metadata": {
        "colab": {
          "base_uri": "https://localhost:8080/"
        },
        "id": "nz_oO8OPZ4Vx",
        "outputId": "024721ce-209f-4449-8a30-4a7fba6001e4"
      },
      "execution_count": 17,
      "outputs": [
        {
          "output_type": "stream",
          "name": "stdout",
          "text": [
            "Counter({'0': 1000})\n"
          ]
        }
      ]
    },
    {
      "cell_type": "code",
      "source": [
        "circuit = cirq.Circuit()\n",
        "\n",
        "qq = cirq.LineQubit.range(9)\n",
        "circuit.append(X(qq[0]))\n",
        "circuit.append(X(qq[1]))\n",
        "circuit.append(oracle_computation2())\n",
        "\n",
        "circuit.append(cirq.measure((qq[-1]), key='result'))\n",
        "\n",
        "trials_number = 1000\n",
        "s = cirq.Simulator()\n",
        "samples = s.run(circuit, repetitions=trials_number)\n",
        "result = samples.measurements[\"result\"]\n",
        "\n",
        "def bitstring(bits):\n",
        "    return \"\".join(str(int(b)) for b in bits)\n",
        "\n",
        "counts = samples.histogram(key=\"result\",fold_func=bitstring)\n",
        "print(counts)"
      ],
      "metadata": {
        "colab": {
          "base_uri": "https://localhost:8080/"
        },
        "id": "bSD47YZecC7O",
        "outputId": "5c93d5ed-4ae1-4e5a-9c5d-2551a9df96f8"
      },
      "execution_count": 24,
      "outputs": [
        {
          "output_type": "stream",
          "name": "stdout",
          "text": [
            "Counter({'1': 1000})\n"
          ]
        }
      ]
    },
    {
      "cell_type": "code",
      "source": [],
      "metadata": {
        "id": "h799jhUKZ441"
      },
      "execution_count": null,
      "outputs": []
    }
  ]
}