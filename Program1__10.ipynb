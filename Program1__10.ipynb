{
  "nbformat": 4,
  "nbformat_minor": 0,
  "metadata": {
    "colab": {
      "provenance": []
    },
    "kernelspec": {
      "name": "python3",
      "display_name": "Python 3"
    },
    "language_info": {
      "name": "python"
    }
  },
  "cells": [
    {
      "cell_type": "code",
      "execution_count": 1,
      "metadata": {
        "id": "IpB30o1C_y71"
      },
      "outputs": [],
      "source": [
        "import numpy as np\n",
        "import matplotlib.pyplot as plt"
      ]
    },
    {
      "cell_type": "code",
      "source": [
        "'''\n",
        "decay model for p = lambda * dt \n",
        "\n",
        "'''\n",
        "\n",
        "def decay1(N0, lm, dt):\n",
        "  t = 0\n",
        "  dN = 0\n",
        "  N = N0\n",
        "  \n",
        "  while N>0:\n",
        "    p = lm * dt\n",
        "    for i in range(N):\n",
        "      r = np.random.rand()\n",
        "      if r<p :\n",
        "        dN +=1\n",
        "    t+=1\n",
        "    N = N - dN\n",
        "    print('time : {} Number of particles : {}'.format(t, max(0,N)))\n",
        "  return \n",
        "\n",
        "def decay2(N0, lm, dt):\n",
        "  t = dt\n",
        "  dN = 0\n",
        "  N = N0\n",
        "  \n",
        "  while N>0:\n",
        "    p = lm * dt / t\n",
        "    for i in range(N):\n",
        "      r = np.random.rand()\n",
        "      if r<p :\n",
        "        dN +=1\n",
        "    t+=1\n",
        "    N = N - dN\n",
        "\n",
        "    print('time : {} Number of particles : {}'.format(t, max(0,N)))\n",
        "  return \n"
      ],
      "metadata": {
        "id": "ORzIhaTNAGKy"
      },
      "execution_count": 14,
      "outputs": []
    },
    {
      "cell_type": "code",
      "source": [
        "decay1(1000, 0.01, 1)"
      ],
      "metadata": {
        "colab": {
          "base_uri": "https://localhost:8080/"
        },
        "id": "ApIOtjAQC8gG",
        "outputId": "354455f2-7b01-4ee8-93e1-654b5bf590ad"
      },
      "execution_count": 15,
      "outputs": [
        {
          "output_type": "stream",
          "name": "stdout",
          "text": [
            "time : 1 Number of particles : 994\n",
            "time : 2 Number of particles : 976\n",
            "time : 3 Number of particles : 948\n",
            "time : 4 Number of particles : 911\n",
            "time : 5 Number of particles : 865\n",
            "time : 6 Number of particles : 810\n",
            "time : 7 Number of particles : 744\n",
            "time : 8 Number of particles : 672\n",
            "time : 9 Number of particles : 598\n",
            "time : 10 Number of particles : 522\n",
            "time : 11 Number of particles : 442\n",
            "time : 12 Number of particles : 357\n",
            "time : 13 Number of particles : 266\n",
            "time : 14 Number of particles : 172\n",
            "time : 15 Number of particles : 77\n",
            "time : 16 Number of particles : 0\n"
          ]
        }
      ]
    },
    {
      "cell_type": "code",
      "source": [
        "decay2(1000, 0.01, 1)"
      ],
      "metadata": {
        "colab": {
          "base_uri": "https://localhost:8080/"
        },
        "id": "14kAbdpUDDef",
        "outputId": "b7457c3f-4bf8-4780-de45-b03523005796"
      },
      "execution_count": 17,
      "outputs": [
        {
          "output_type": "stream",
          "name": "stdout",
          "text": [
            "time : 2 Number of particles : 991\n",
            "time : 3 Number of particles : 978\n",
            "time : 4 Number of particles : 963\n",
            "time : 5 Number of particles : 947\n",
            "time : 6 Number of particles : 931\n",
            "time : 7 Number of particles : 914\n",
            "time : 8 Number of particles : 894\n",
            "time : 9 Number of particles : 874\n",
            "time : 10 Number of particles : 853\n",
            "time : 11 Number of particles : 832\n",
            "time : 12 Number of particles : 811\n",
            "time : 13 Number of particles : 790\n",
            "time : 14 Number of particles : 769\n",
            "time : 15 Number of particles : 747\n",
            "time : 16 Number of particles : 725\n",
            "time : 17 Number of particles : 702\n",
            "time : 18 Number of particles : 679\n",
            "time : 19 Number of particles : 656\n",
            "time : 20 Number of particles : 633\n",
            "time : 21 Number of particles : 610\n",
            "time : 22 Number of particles : 587\n",
            "time : 23 Number of particles : 564\n",
            "time : 24 Number of particles : 541\n",
            "time : 25 Number of particles : 517\n",
            "time : 26 Number of particles : 492\n",
            "time : 27 Number of particles : 467\n",
            "time : 28 Number of particles : 441\n",
            "time : 29 Number of particles : 415\n",
            "time : 30 Number of particles : 389\n",
            "time : 31 Number of particles : 363\n",
            "time : 32 Number of particles : 337\n",
            "time : 33 Number of particles : 311\n",
            "time : 34 Number of particles : 285\n",
            "time : 35 Number of particles : 259\n",
            "time : 36 Number of particles : 233\n",
            "time : 37 Number of particles : 207\n",
            "time : 38 Number of particles : 181\n",
            "time : 39 Number of particles : 155\n",
            "time : 40 Number of particles : 129\n",
            "time : 41 Number of particles : 102\n",
            "time : 42 Number of particles : 75\n",
            "time : 43 Number of particles : 48\n",
            "time : 44 Number of particles : 21\n",
            "time : 45 Number of particles : 0\n"
          ]
        }
      ]
    },
    {
      "cell_type": "code",
      "source": [],
      "metadata": {
        "id": "9jBlcfDsDbQE"
      },
      "execution_count": null,
      "outputs": []
    }
  ]
}