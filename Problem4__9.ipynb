{
  "nbformat": 4,
  "nbformat_minor": 0,
  "metadata": {
    "colab": {
      "provenance": []
    },
    "kernelspec": {
      "name": "python3",
      "display_name": "Python 3"
    },
    "language_info": {
      "name": "python"
    }
  },
  "cells": [
    {
      "cell_type": "code",
      "execution_count": 2,
      "metadata": {
        "id": "GUdFhxhVAHWk"
      },
      "outputs": [],
      "source": [
        "import numpy as np\n",
        "import matplotlib.pyplot as plt"
      ]
    },
    {
      "cell_type": "code",
      "source": [
        "def logistic_map(x0 ,miu):\n",
        "  x = [x0]\n",
        "  error = 0.01\n",
        "  x_old, x_new = 0, 0\n",
        "  i = 0\n",
        "  for i in range(10000):\n",
        "    x_new = x[i] * miu * (1 - x[i])\n",
        "    x.append(x_new)\n",
        "\n",
        "  return x\n",
        "\n",
        "def compute_lambda(miu, x):\n",
        "  lambda_miu = 0\n",
        "\n",
        "  for i in range(10000):\n",
        "    lambda_miu += np.log(abs(miu - 2*miu*x[i]))\n",
        "  \n",
        "  return lambda_miu/10000"
      ],
      "metadata": {
        "id": "pE1pF-usAPpq"
      },
      "execution_count": 1,
      "outputs": []
    },
    {
      "cell_type": "markdown",
      "source": [
        "$part A$"
      ],
      "metadata": {
        "id": "2HCVOy2E4ViB"
      }
    },
    {
      "cell_type": "code",
      "source": [
        "miu = np.linspace(0.01 ,5 , 100)\n",
        "x0 = 0.3\n",
        "lambda_miu = np.zeros(100)\n",
        "\n",
        "for i in range(100):\n",
        "  x = logistic_map(x0, miu[i])\n",
        "  lambda_miu[i] = compute_lambda(miu[i], x)\n"
      ],
      "metadata": {
        "colab": {
          "base_uri": "https://localhost:8080/"
        },
        "id": "FO-1PoWbRZ8_",
        "outputId": "1e755f90-f287-4ffc-c7c3-9790f941d44c"
      },
      "execution_count": 6,
      "outputs": [
        {
          "output_type": "stream",
          "name": "stderr",
          "text": [
            "<ipython-input-1-897471fd943c>:7: RuntimeWarning: overflow encountered in double_scalars\n",
            "  x_new = x[i] * miu * (1 - x[i])\n"
          ]
        }
      ]
    },
    {
      "cell_type": "code",
      "source": [
        "plt.xlabel('miu')\n",
        "plt.ylabel('lambda')\n",
        "plt.grid()\n",
        "plt.scatter(miu, lambda_miu, s=5)"
      ],
      "metadata": {
        "colab": {
          "base_uri": "https://localhost:8080/",
          "height": 467
        },
        "id": "jUs8whJpR1w2",
        "outputId": "adc42018-2fb8-4d50-81ff-0d730446d8eb"
      },
      "execution_count": 7,
      "outputs": [
        {
          "output_type": "execute_result",
          "data": {
            "text/plain": [
              "<matplotlib.collections.PathCollection at 0x7fae1c257370>"
            ]
          },
          "metadata": {},
          "execution_count": 7
        },
        {
          "output_type": "display_data",
          "data": {
            "text/plain": [
              "<Figure size 640x480 with 1 Axes>"
            ],
            "image/png": "[encoded data removed]"
          },
          "metadata": {}
        }
      ]
    },
    {
      "cell_type": "markdown",
      "source": [
        "$partB$"
      ],
      "metadata": {
        "id": "hcCcnc6D4d9O"
      }
    },
    {
      "cell_type": "code",
      "source": [
        "def Lorenz_attractor(x0, y0, z0, t):\n",
        "  len_t = len(t)\n",
        "  dt = t[1] - t[0]\n",
        "  x = np.zeros(len_t-1)\n",
        "  y = np.zeros(len_t-1)\n",
        "  z = np.zeros(len_t-1)\n",
        "\n",
        "  x[0], y[0], z[0] = x0, y0, z0\n",
        "\n",
        "  for i in range(1, len_t-1):\n",
        "    x[i] = x[i-1] + 10 * (y[i-1] - x[i-1]) * dt\n",
        "    y[i] = y[i-1] + (-x[i-1]*z[i-1] + 28*x[i-1] - y[i-1]) * dt\n",
        "    z[i] = z[i-1] + (x[i-1]*y[i-1] - 8/3 * z[i-1]) * dt\n",
        "\n",
        "  return x, y, z\n",
        "\n",
        "def compute_lambda_xyz(x, y, z, t):\n",
        "  nx, ny, nz = len(x), len(y), len(z)\n",
        "  dt = t[1] - t[0]\n",
        "  lambda_x, lambda_y, lambda_z = 0,0,0\n",
        "  for i in range(1,nx):\n",
        "    lambda_x += np.log(abs(y[i] - x[i]))\n",
        "    lambda_y += np.log(abs(-x[i-1]*z[i-1] + 28*x[i-1] - y[i-1]))\n",
        "    lambda_z += np.log(abs(x[i-1]*y[i-1] - 8/3 * z[i-1]))\n",
        "  lambda_x = lambda_x/nx\n",
        "  lambda_y = lambda_y/ny\n",
        "  lambda_z = lambda_z/nz\n",
        "\n",
        "  return lambda_x, lambda_y, lambda_z"
      ],
      "metadata": {
        "id": "NLIAtvJMAJk7"
      },
      "execution_count": 33,
      "outputs": []
    },
    {
      "cell_type": "code",
      "source": [
        "t = np.linspace(0, 2, 100)\n",
        "x, y, z = Lorenz_attractor(0.5, 0.5, 0.5, t)\n",
        "lx, ly, lz = compute_lambda_xyz(x, y, z, t)"
      ],
      "metadata": {
        "id": "qDlvte-VIhAn"
      },
      "execution_count": 34,
      "outputs": []
    },
    {
      "cell_type": "code",
      "source": [
        "print('lambda_x:{}'.format(lx))\n",
        "print('lambda_y:{}'.format(ly))\n",
        "print('lambda_z:{}'.format(lz))"
      ],
      "metadata": {
        "colab": {
          "base_uri": "https://localhost:8080/"
        },
        "id": "Z507CADcTiiG",
        "outputId": "f116b548-c65f-4ea8-a149-a768ce096705"
      },
      "execution_count": 35,
      "outputs": [
        {
          "output_type": "stream",
          "name": "stdout",
          "text": [
            "lambda_x:1.2959755393885397\n",
            "lambda_y:3.884689721478755\n",
            "lambda_z:3.664870503715668\n"
          ]
        }
      ]
    },
    {
      "cell_type": "code",
      "source": [
        "def RF4_method(f, alpha, omega, omega1, y0, y_dot0, time):\n",
        "  \n",
        "    t = len(time)\n",
        "    dt = time[1] - time[0]\n",
        "\n",
        "    y = np.zeros(t)\n",
        "    y[0] = y0\n",
        "\n",
        "    y_dot = np.zeros(t)\n",
        "    y_dot[0] = y_dot0\n",
        "\n",
        "    for i in range(t-1):\n",
        "      f1 = y_dot[i]\n",
        "      k1 = f * np.cos(omega1 * time[i]) - omega**2 * np.sin(y[i]) - alpha * y_dot[i]\n",
        "\n",
        "      f2 = y_dot[i] + dt*k1/2\n",
        "      k2 = f * np.cos(omega1 * (time[i] + dt/2)) - omega**2 * np.sin((y[i] + dt*f1/2)) - alpha * f2\n",
        "\n",
        "      f3 = y_dot[i] + dt*k2/2\n",
        "      k3 = f * np.cos(omega1 * (time[i] + dt/2)) - omega**2 * np.sin((y[i] + dt*f2/2)) - alpha * f3\n",
        "\n",
        "      f4 = y_dot[i] + dt*k3/2\n",
        "      k4 = f * np.cos(omega1 * (time[i] + dt/2)) - omega**2 * np.sin((y[i] + dt*f3/2)) - alpha * f4\n",
        "\n",
        "      y[i+1] = y[i] + dt*(f1 + 2*f2 + 2*f3 + f4)/6\n",
        "      y_dot[i+1] = y_dot[i] + dt*(k1 + 2*k2 + 2*k3 + k4)/6\n",
        "\n",
        "\n",
        "    return y, y_dot\n",
        "\n",
        "\n",
        "def compute_lambda_theta(f, alpha, omega, omega1, y0, y_dot0, time, y, y_dot):\n",
        "  nt, ntd = len(y), len(y_dot)\n",
        "  dt = time[1] - time[0]\n",
        "  lambda_theta, lambda_theta_dot = 0,0\n",
        "  t = len(time)\n",
        "\n",
        "  for i in range(1,nt):\n",
        "    lambda_theta += np.log(abs((y[i]-y[i-1])/dt))\n",
        "    lambda_theta_dot +=  np.log(abs((y_dot[i]-y_dot[i-1])/dt))\n",
        "\n",
        "  return lambda_theta/nt, lambda_theta_dot/ntd"
      ],
      "metadata": {
        "id": "eFUEj8e1Ti1y"
      },
      "execution_count": 44,
      "outputs": []
    },
    {
      "cell_type": "code",
      "source": [
        "t = np.linspace(0, 2, 100)\n",
        "r1, r2 = np.random.random(), np.random.random()\n",
        "theta1, theta_dot1 = RF4_method(.52, .2, 1, .666, r1, r2, t)\n",
        "ltheta, ltheta_dot = compute_lambda_theta(.52, .2, 1, .666, r1, r2, t, theta1, theta_dot1)"
      ],
      "metadata": {
        "id": "lh4NqLgRxqPK"
      },
      "execution_count": 45,
      "outputs": []
    },
    {
      "cell_type": "code",
      "source": [
        "print('lambda_theta:{}'.format(ltheta))\n",
        "print('lambda_theta dot:{}'.format(ltheta_dot))"
      ],
      "metadata": {
        "colab": {
          "base_uri": "https://localhost:8080/"
        },
        "id": "DRaztYIIyPDb",
        "outputId": "b7186bb2-446c-45a7-fe25-b21505411a0c"
      },
      "execution_count": 46,
      "outputs": [
        {
          "output_type": "stream",
          "name": "stdout",
          "text": [
            "lambda_theta:-0.8795049622876756\n",
            "lambda_theta dot:-1.0757808693922615\n"
          ]
        }
      ]
    }
  ]
}