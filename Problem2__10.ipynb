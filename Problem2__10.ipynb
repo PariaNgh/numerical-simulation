{
  "nbformat": 4,
  "nbformat_minor": 0,
  "metadata": {
    "colab": {
      "provenance": []
    },
    "kernelspec": {
      "name": "python3",
      "display_name": "Python 3"
    },
    "language_info": {
      "name": "python"
    }
  },
  "cells": [
    {
      "cell_type": "code",
      "execution_count": 1,
      "metadata": {
        "id": "Q9bAAkBm3KBG"
      },
      "outputs": [],
      "source": [
        "import numpy as np\n",
        "import matplotlib.pyplot as plt"
      ]
    },
    {
      "cell_type": "markdown",
      "source": [
        "a program for finding pi numericaly"
      ],
      "metadata": {
        "id": "5ZyA7ypM3pRg"
      }
    },
    {
      "cell_type": "code",
      "source": [
        "def calc_pi(N):\n",
        "\n",
        "  #num of total points\n",
        "  num_iter = N\n",
        "\n",
        "  #num of points that are in the circle\n",
        "  circle_num = 0\n",
        "\n",
        "\n",
        "  for i in range(num_iter):\n",
        "    \n",
        "    #two random numbers \n",
        "    rx = np.random.uniform(0,2)\n",
        "    ry = np.random.uniform(0,2)\n",
        "    \n",
        "    #distance from the origin\n",
        "    dx_o = abs(rx - 1)\n",
        "    dy_o = abs(ry - 1)\n",
        "\n",
        "    d_o = np.sqrt(dx_o**2 + dy_o**2)\n",
        "\n",
        "    #evaluating if the point is in the circle\n",
        "    if d_o <= 1:\n",
        "      circle_num+=1\n",
        "  '''\n",
        "\n",
        "  pi * R**2 = pi\n",
        "  width * height = 4\n",
        "\n",
        "  num of points in the cirlcle / total points = pi/4\n",
        "\n",
        "  ''' \n",
        "\n",
        "  pi = 4 * circle_num/num_iter\n",
        "\n",
        "  return pi"
      ],
      "metadata": {
        "id": "Bt-F-yKH3WuD"
      },
      "execution_count": 12,
      "outputs": []
    },
    {
      "cell_type": "code",
      "source": [
        "n1000 = calc_pi(1000)\n",
        "n10000 = calc_pi(10000)\n",
        "n100000 = calc_pi(100000)\n",
        "n1000000 = calc_pi(1000000)\n"
      ],
      "metadata": {
        "id": "8kTY8qqc5PTA"
      },
      "execution_count": 13,
      "outputs": []
    },
    {
      "cell_type": "code",
      "source": [
        "print('pi with 1000 throws : {}'.format(n1000))\n",
        "print('pi with 10000 throws : {}'.format(n10000))\n",
        "print('pi with 100000 throws : {}'.format(n100000))\n",
        "print('pi with 1000000 throws : {}'.format(n1000000))"
      ],
      "metadata": {
        "colab": {
          "base_uri": "https://localhost:8080/"
        },
        "id": "do8d6vgv9AJ3",
        "outputId": "2c78bef7-88e9-46d7-dfbf-418bc29ae0b2"
      },
      "execution_count": 14,
      "outputs": [
        {
          "output_type": "stream",
          "name": "stdout",
          "text": [
            "pi with 1000 throws : 3.06\n",
            "pi with 10000 throws : 3.1344\n",
            "pi with 100000 throws : 3.143\n",
            "pi with 1000000 throws : 3.139428\n"
          ]
        }
      ]
    }
  ]
}