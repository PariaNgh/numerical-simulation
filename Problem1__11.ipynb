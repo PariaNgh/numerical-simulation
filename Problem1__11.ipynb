{
  "nbformat": 4,
  "nbformat_minor": 0,
  "metadata": {
    "colab": {
      "provenance": []
    },
    "kernelspec": {
      "name": "python3",
      "display_name": "Python 3"
    },
    "language_info": {
      "name": "python"
    }
  },
  "cells": [
    {
      "cell_type": "code",
      "execution_count": null,
      "metadata": {
        "id": "f93B4IqWqmPH"
      },
      "outputs": [],
      "source": [
        "# https://pypi.python.org/pypi/cirq\n",
        "!apt-get -qq install -y graphviz && pip install cirq\n",
        "import cirq\n",
        "from cirq import X, H, Z, inverse, CX"
      ]
    },
    {
      "cell_type": "code",
      "source": [
        "def edge_check(a, b, c):\n",
        "    yield CX(qq[a], qq[c])\n",
        "    yield CX(qq[b], qq[c])\n",
        "\n",
        "def oracle1():\n",
        "    # check 0-2 edge and store at 4th qubit\n",
        "    yield edge_check(0, 1, 4)\n",
        "    # check 0-2 edge and store at 5th qubit\n",
        "    yield edge_check(0, 2, 5)\n",
        "    # check 0-3 edge and store at 6th qubit\n",
        "    yield edge_check(0, 3, 6)\n",
        "    # check 1-3 edge and store at 7th qubit\n",
        "    yield edge_check(1, 3, 7)\n",
        "\n",
        "    # check all edge qubits\n",
        "    yield X(qq[8]).controlled_by(*(qq[4:8]))\n",
        "\n",
        "def oracle_computation1():\n",
        "    yield oracle1()\n",
        "    yield Z(qq[8])\n",
        "    yield inverse(oracle1())\n",
        "       \n",
        "def oracle2():\n",
        "    # check 0-2 edge and store at 4th qubit\n",
        "    yield edge_check(0, 2, 4)\n",
        "    # check 0-3 edge and store at 5th qubit\n",
        "    yield edge_check(0, 3, 5)\n",
        "    # check 1-2 edge and store at 6th qubit\n",
        "    yield edge_check(1, 2, 6)\n",
        "    # check 1-3 edge and store at 7th qubit\n",
        "    yield edge_check(1, 3, 7)\n",
        "\n",
        "    # check all edge qubits\n",
        "    yield X(qq[8]).controlled_by(*(qq[4:8]))    \n",
        "    \n",
        "def oracle_computation2():\n",
        "    yield oracle1()\n",
        "    yield Z(qq[8])\n",
        "    yield inverse(oracle2())    \n",
        "\n",
        "def inversion():\n",
        "    yield H.on_each(*qq)\n",
        "    yield X.on_each(*qq)\n",
        "    yield Z(qq[3]).controlled_by(*(qq[0:3]))\n",
        "    yield X.on_each(*qq)\n",
        "    yield H.on_each(*qq)"
      ],
      "metadata": {
        "id": "6T2XdsvrqwsH"
      },
      "execution_count": null,
      "outputs": []
    },
    {
      "cell_type": "code",
      "source": [
        "circuit = cirq.Circuit()\n",
        "\n",
        "qq = cirq.LineQubit.range(9)\n",
        "\n",
        "circuit.append(H.on_each(*(qq[0:4])))\n",
        "##################################################\n",
        "\n",
        "\n",
        "for i in range(2):\n",
        "    circuit.append(oracle_computation1())\n",
        "    circuit.append(inversion())\n",
        "\n",
        "# we are only intertested in outputs of first 4 qubits\n",
        "circuit.append(cirq.measure(*(qq[0:4]), key='result'))\n",
        "######################################################################################################\n",
        "# determine the statistics of the measurements\n",
        "trials_number = 1000\n",
        "s = cirq.Simulator()\n",
        "samples = s.run(circuit, repetitions=trials_number)\n",
        "result = samples.measurements[\"result\"]\n",
        "\n",
        "def bitstring(bits):\n",
        "    return \"\".join(str(int(b)) for b in bits)\n",
        "\n",
        "counts = samples.histogram(key=\"result\",fold_func=bitstring)\n",
        "print(counts)\n",
        "# print(circuit)"
      ],
      "metadata": {
        "colab": {
          "base_uri": "https://localhost:8080/"
        },
        "id": "JCteEfNL2aDK",
        "outputId": "127ce04a-514f-404e-afad-197222605a94"
      },
      "execution_count": null,
      "outputs": [
        {
          "output_type": "stream",
          "name": "stdout",
          "text": [
            "Counter({'1100': 78, '0100': 77, '0110': 71, '0001': 67, '1001': 67, '0111': 66, '1110': 65, '1111': 63, '0000': 62, '1010': 60, '0101': 57, '1101': 57, '0010': 56, '1011': 53, '1000': 51, '0011': 50})\n"
          ]
        }
      ]
    },
    {
      "cell_type": "code",
      "source": [
        "circuit = cirq.Circuit()\n",
        "\n",
        "qq = cirq.LineQubit.range(9)\n",
        "\n",
        "circuit.append(H.on_each(*(qq[0:4])))\n",
        "##################################################\n",
        "\n",
        "\n",
        "for i in range(2):\n",
        "    circuit.append(oracle_computation2())\n",
        "    circuit.append(inversion())\n",
        "\n",
        "# we are only intertested in outputs of first 4 qubits\n",
        "circuit.append(cirq.measure(*(qq[0:4]), key='result'))\n",
        "######################################################################################################\n",
        "# determine the statistics of the measurements\n",
        "trials_number = 1000\n",
        "s = cirq.Simulator()\n",
        "samples = s.run(circuit, repetitions=trials_number)\n",
        "result = samples.measurements[\"result\"]\n",
        "\n",
        "def bitstring(bits):\n",
        "    return \"\".join(str(int(b)) for b in bits)\n",
        "\n",
        "counts = samples.histogram(key=\"result\",fold_func=bitstring)\n",
        "print(counts)\n",
        "# print(circuit)"
      ],
      "metadata": {
        "colab": {
          "base_uri": "https://localhost:8080/"
        },
        "id": "9oY6G5zG2eeb",
        "outputId": "e3dd8a47-32be-4bc2-b6bb-48bff7c26979"
      },
      "execution_count": null,
      "outputs": [
        {
          "output_type": "stream",
          "name": "stdout",
          "text": [
            "Counter({'1100': 252, '0011': 228, '1110': 60, '0001': 58, '0110': 56, '1001': 51, '1011': 49, '0100': 43, '1111': 33, '0101': 29, '0000': 26, '1010': 25, '1101': 23, '1000': 23, '0111': 22, '0010': 22})\n"
          ]
        }
      ]
    }
  ]
}