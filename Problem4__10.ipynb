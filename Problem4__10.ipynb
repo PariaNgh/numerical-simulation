{
  "nbformat": 4,
  "nbformat_minor": 0,
  "metadata": {
    "colab": {
      "provenance": []
    },
    "kernelspec": {
      "name": "python3",
      "display_name": "Python 3"
    },
    "language_info": {
      "name": "python"
    }
  },
  "cells": [
    {
      "cell_type": "code",
      "execution_count": 2,
      "metadata": {
        "id": "EitrIeZfjfKP"
      },
      "outputs": [],
      "source": [
        "import matplotlib.pyplot as plt\n",
        "import numpy as np"
      ]
    },
    {
      "cell_type": "code",
      "source": [
        "def wave_function(alpha, x):\n",
        "  return np.exp(-alpha * x**2)\n",
        "\n",
        "def local_energy(alpha, x):\n",
        "  El = alpha + x**2 * (1/2 - 2*alpha**2)\n",
        "  return El\n",
        "\n",
        "def p_gen(alpha, x_min, x_max, num):\n",
        "  x = []\n",
        "  y = []\n",
        "  min_y = 0\n",
        "  max_y = 1.2 * np.max(np.exp(-2*alpha*(np.linspace(x_min,x_max,1000))**2))\n",
        "  M = 0\n",
        "  for t in range(num):\n",
        "    rx = np.random.uniform(-1,1)\n",
        "    ry = np.random.uniform(min_y, max_y)\n",
        "    if np.exp(-2*alpha*rx**2) > ry :\n",
        "      x.append(rx)\n",
        "      M+=1\n",
        "  return x, M"
      ],
      "metadata": {
        "id": "6lOzf9nsTFRL"
      },
      "execution_count": 3,
      "outputs": []
    },
    {
      "cell_type": "code",
      "source": [
        "alpha_min = 0\n",
        "alpha_max = 5\n",
        "alpha_list = []\n",
        "E_alpha = []"
      ],
      "metadata": {
        "id": "JS8h43QGaNLj"
      },
      "execution_count": 4,
      "outputs": []
    },
    {
      "cell_type": "code",
      "source": [
        "for i in range(10):\n",
        "    alpha = i * 0.5\n",
        "    p_alpha_x, M = p_gen(alpha, -1, 1, 100000)\n",
        "    Ealpha = 0\n",
        "    for j in range(M):\n",
        "      r = np.random.randint(len(p_alpha_x) - 1)\n",
        "      xi = p_alpha_x[r]\n",
        "      Ealpha += local_energy(alpha, xi)\n",
        "    alpha_list.append(alpha)\n",
        "    Ealpha = Ealpha/M\n",
        "    # print('alpha:{} E:{}'.format(alpha[i], Ealpha))\n",
        "    E_alpha.append(Ealpha)\n",
        "\n",
        "  "
      ],
      "metadata": {
        "id": "UqXnQHrTUWt6"
      },
      "execution_count": 5,
      "outputs": []
    },
    {
      "cell_type": "code",
      "source": [
        "plt.xlabel('alpha')\n",
        "plt.ylabel('E(alpha)')\n",
        "plt.grid()\n",
        "plt.plot(alpha_list, np.array(E_alpha))"
      ],
      "metadata": {
        "colab": {
          "base_uri": "https://localhost:8080/",
          "height": 467
        },
        "id": "dqH2ZQp_gsuN",
        "outputId": "14edfd4c-2383-4a90-ef7c-82d8980d9abd"
      },
      "execution_count": 6,
      "outputs": [
        {
          "output_type": "execute_result",
          "data": {
            "text/plain": [
              "[<matplotlib.lines.Line2D at 0x7f98ae26fcd0>]"
            ]
          },
          "metadata": {},
          "execution_count": 6
        },
        {
          "output_type": "display_data",
          "data": {
            "text/plain": [
              "<Figure size 640x480 with 1 Axes>"
            ],
            "image/png": "[encoded data removed]"
          },
          "metadata": {}
        }
      ]
    },
    {
      "cell_type": "code",
      "source": [],
      "metadata": {
        "id": "X_4tHiwMguy3"
      },
      "execution_count": null,
      "outputs": []
    }
  ]
}