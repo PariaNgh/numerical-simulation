{
  "nbformat": 4,
  "nbformat_minor": 0,
  "metadata": {
    "colab": {
      "provenance": []
    },
    "kernelspec": {
      "name": "python3",
      "display_name": "Python 3"
    },
    "language_info": {
      "name": "python"
    }
  },
  "cells": [
    {
      "cell_type": "code",
      "execution_count": 1,
      "metadata": {
        "id": "HS5OKSprEfJl"
      },
      "outputs": [],
      "source": [
        "import numpy as np\n",
        "import numba as nb"
      ]
    },
    {
      "cell_type": "code",
      "source": [
        "@nb.njit\n",
        "def f(beta_m, x, y, z):\n",
        "  f = (beta_m/(2*np.pi))**1.5 * np.exp(-beta_m * (x**2 + y**2 + z**2)/2) * z**2\n",
        "  return f\n",
        "\n",
        "\n",
        "@nb.njit(parallel=True)\n",
        "def integral(f_a, fb, dx, a, b):\n",
        "\n",
        "  I = dx**3 *(f_a + b)/2\n",
        "  N = int((b-a)/dx)\n",
        "\n",
        "  for i in nb.prange(1,N-1):\n",
        "    for j in nb.prange(1,N-1):\n",
        "      for k in nb.prange(1,N-1):\n",
        "        xi, yj, zk = a + i*dx, a + j*dx, a + k*dx\n",
        "\n",
        "        I += f(2, xi, yj, zk) * dx**3\n",
        "  return I\n"
      ],
      "metadata": {
        "id": "YZyp8e0FEsaB"
      },
      "execution_count": 8,
      "outputs": []
    },
    {
      "cell_type": "code",
      "source": [
        "'''\n",
        "exp(-10^2 * 2) * exp(-10^2 * 2) * exp(-10^2 * 2) = 2.6e-261\n",
        "\n",
        "Hence, we can replace the limits of the integral with 10 and -10\n",
        "'''\n",
        "\n",
        "II = integral(f(2, -10, -10, -10), f(2, 10, 10, 10), 0.1, -10, 10)"
      ],
      "metadata": {
        "id": "GgpmLfiKmn1-"
      },
      "execution_count": 12,
      "outputs": []
    },
    {
      "cell_type": "markdown",
      "source": [
        "The analytical Solution is : 0.5"
      ],
      "metadata": {
        "id": "-nkMhSv1Ov0E"
      }
    },
    {
      "cell_type": "code",
      "source": [
        "print('Integral Solution:{}'.format(II))"
      ],
      "metadata": {
        "colab": {
          "base_uri": "https://localhost:8080/"
        },
        "id": "HUS8HGtUmyn_",
        "outputId": "ec40f622-221b-400e-f038-7cca8f77c5f4"
      },
      "execution_count": 13,
      "outputs": [
        {
          "output_type": "stream",
          "name": "stdout",
          "text": [
            "Integral Solution:0.504999999999604\n"
          ]
        }
      ]
    }
  ]
}